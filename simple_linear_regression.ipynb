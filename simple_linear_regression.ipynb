{
 "cells": [
  {
   "cell_type": "markdown",
   "metadata": {
    "collapsed": true,
    "deletable": true,
    "editable": true
   },
   "source": [
    "# Antiques Watches "
   ]
  },
  {
   "cell_type": "markdown",
   "metadata": {
    "deletable": true,
    "editable": true
   },
   "source": [
    "<img style=\"float: left; width: 300px;  height : 200px\" src=\"data/antique_watches.jpg\"> "
   ]
  },
  {
   "cell_type": "markdown",
   "metadata": {
    "deletable": true,
    "editable": true
   },
   "source": [
    "The following dataset contains price and age of different watches. <br /> \n",
    "Goal will be to build a simple linear regression model in order to predict the price of a watch based on its age. <br /> I'm going to fit two regression models using scikit-learn and tensorflow to compare the results to each other."
   ]
  },
  {
   "cell_type": "markdown",
   "metadata": {
    "deletable": true,
    "editable": true
   },
   "source": [
    "## Import dependencies"
   ]
  },
  {
   "cell_type": "code",
   "execution_count": 1,
   "metadata": {
    "collapsed": false,
    "deletable": true,
    "editable": true
   },
   "outputs": [],
   "source": [
    "import tensorflow as tf\n",
    "import matplotlib.pyplot as plt\n",
    "%matplotlib inline\n",
    "import numpy as np\n",
    "from sklearn import datasets, linear_model\n",
    "import pandas as pd\n",
    "from matplotlib.ticker import NullFormatter  # useful for `logit` scale"
   ]
  },
  {
   "cell_type": "markdown",
   "metadata": {
    "deletable": true,
    "editable": true
   },
   "source": [
    "## Read & Describing Data"
   ]
  },
  {
   "cell_type": "code",
   "execution_count": 2,
   "metadata": {
    "collapsed": false,
    "deletable": true,
    "editable": true
   },
   "outputs": [
    {
     "data": {
      "text/html": [
       "<div>\n",
       "<table border=\"1\" class=\"dataframe\">\n",
       "  <thead>\n",
       "    <tr style=\"text-align: right;\">\n",
       "      <th></th>\n",
       "      <th>age</th>\n",
       "      <th>price</th>\n",
       "    </tr>\n",
       "  </thead>\n",
       "  <tbody>\n",
       "    <tr>\n",
       "      <th>count</th>\n",
       "      <td>32.000000</td>\n",
       "      <td>32.000000</td>\n",
       "    </tr>\n",
       "    <tr>\n",
       "      <th>mean</th>\n",
       "      <td>144.937500</td>\n",
       "      <td>1327.156250</td>\n",
       "    </tr>\n",
       "    <tr>\n",
       "      <th>std</th>\n",
       "      <td>27.395476</td>\n",
       "      <td>393.134395</td>\n",
       "    </tr>\n",
       "    <tr>\n",
       "      <th>min</th>\n",
       "      <td>108.000000</td>\n",
       "      <td>729.000000</td>\n",
       "    </tr>\n",
       "    <tr>\n",
       "      <th>25%</th>\n",
       "      <td>117.000000</td>\n",
       "      <td>1053.000000</td>\n",
       "    </tr>\n",
       "    <tr>\n",
       "      <th>50%</th>\n",
       "      <td>140.000000</td>\n",
       "      <td>1257.500000</td>\n",
       "    </tr>\n",
       "    <tr>\n",
       "      <th>75%</th>\n",
       "      <td>168.500000</td>\n",
       "      <td>1560.750000</td>\n",
       "    </tr>\n",
       "    <tr>\n",
       "      <th>max</th>\n",
       "      <td>194.000000</td>\n",
       "      <td>2131.000000</td>\n",
       "    </tr>\n",
       "  </tbody>\n",
       "</table>\n",
       "</div>"
      ],
      "text/plain": [
       "              age        price\n",
       "count   32.000000    32.000000\n",
       "mean   144.937500  1327.156250\n",
       "std     27.395476   393.134395\n",
       "min    108.000000   729.000000\n",
       "25%    117.000000  1053.000000\n",
       "50%    140.000000  1257.500000\n",
       "75%    168.500000  1560.750000\n",
       "max    194.000000  2131.000000"
      ]
     },
     "execution_count": 2,
     "metadata": {},
     "output_type": "execute_result"
    }
   ],
   "source": [
    "df = pd.read_csv(\"data/antique_watches.csv\", sep=\";\", dtype=float); \n",
    "df.describe()"
   ]
  },
  {
   "cell_type": "markdown",
   "metadata": {
    "deletable": true,
    "editable": true
   },
   "source": [
    "The range of values for age and price is relatively wide and without rescaling the values it might be possible that our gradient descent optimizer in TensorFlow will not work properly. There are a lot of techniques to rescale the data, I will just bring the values of both columns in a range of [0,1] by applying the following formula:  <br /> \n",
    "\n",
    "$ x' = \\frac{x-min(x)}{max(x) - min(x)} $ <br />  \n",
    "\n",
    "where x is the variable to be rescaled"
   ]
  },
  {
   "cell_type": "markdown",
   "metadata": {
    "deletable": true,
    "editable": true
   },
   "source": [
    "### Rescaling Data"
   ]
  },
  {
   "cell_type": "code",
   "execution_count": 3,
   "metadata": {
    "collapsed": false,
    "deletable": true,
    "editable": true
   },
   "outputs": [
    {
     "data": {
      "text/html": [
       "<div>\n",
       "<table border=\"1\" class=\"dataframe\">\n",
       "  <thead>\n",
       "    <tr style=\"text-align: right;\">\n",
       "      <th></th>\n",
       "      <th>age</th>\n",
       "      <th>price</th>\n",
       "      <th>scaled_age</th>\n",
       "      <th>scaled_price</th>\n",
       "    </tr>\n",
       "  </thead>\n",
       "  <tbody>\n",
       "    <tr>\n",
       "      <th>count</th>\n",
       "      <td>32.000000</td>\n",
       "      <td>32.000000</td>\n",
       "      <td>32.000000</td>\n",
       "      <td>32.000000</td>\n",
       "    </tr>\n",
       "    <tr>\n",
       "      <th>mean</th>\n",
       "      <td>144.937500</td>\n",
       "      <td>1327.156250</td>\n",
       "      <td>0.429506</td>\n",
       "      <td>0.426645</td>\n",
       "    </tr>\n",
       "    <tr>\n",
       "      <th>std</th>\n",
       "      <td>27.395476</td>\n",
       "      <td>393.134395</td>\n",
       "      <td>0.318552</td>\n",
       "      <td>0.280410</td>\n",
       "    </tr>\n",
       "    <tr>\n",
       "      <th>min</th>\n",
       "      <td>108.000000</td>\n",
       "      <td>729.000000</td>\n",
       "      <td>0.000000</td>\n",
       "      <td>0.000000</td>\n",
       "    </tr>\n",
       "    <tr>\n",
       "      <th>25%</th>\n",
       "      <td>117.000000</td>\n",
       "      <td>1053.000000</td>\n",
       "      <td>0.104651</td>\n",
       "      <td>0.231098</td>\n",
       "    </tr>\n",
       "    <tr>\n",
       "      <th>50%</th>\n",
       "      <td>140.000000</td>\n",
       "      <td>1257.500000</td>\n",
       "      <td>0.372093</td>\n",
       "      <td>0.376961</td>\n",
       "    </tr>\n",
       "    <tr>\n",
       "      <th>75%</th>\n",
       "      <td>168.500000</td>\n",
       "      <td>1560.750000</td>\n",
       "      <td>0.703488</td>\n",
       "      <td>0.593260</td>\n",
       "    </tr>\n",
       "    <tr>\n",
       "      <th>max</th>\n",
       "      <td>194.000000</td>\n",
       "      <td>2131.000000</td>\n",
       "      <td>1.000000</td>\n",
       "      <td>1.000000</td>\n",
       "    </tr>\n",
       "  </tbody>\n",
       "</table>\n",
       "</div>"
      ],
      "text/plain": [
       "              age        price  scaled_age  scaled_price\n",
       "count   32.000000    32.000000   32.000000     32.000000\n",
       "mean   144.937500  1327.156250    0.429506      0.426645\n",
       "std     27.395476   393.134395    0.318552      0.280410\n",
       "min    108.000000   729.000000    0.000000      0.000000\n",
       "25%    117.000000  1053.000000    0.104651      0.231098\n",
       "50%    140.000000  1257.500000    0.372093      0.376961\n",
       "75%    168.500000  1560.750000    0.703488      0.593260\n",
       "max    194.000000  2131.000000    1.000000      1.000000"
      ]
     },
     "execution_count": 3,
     "metadata": {},
     "output_type": "execute_result"
    }
   ],
   "source": [
    "def rescaling(x):\n",
    "    return(x-np.min(x)) / (np.max(x) - np.min(x))\n",
    "\n",
    "scaled_price = np.asarray(rescaling(df.price))\n",
    "scaled_age = np.asarray(rescaling(df.age))\n",
    "\n",
    "df = pd.concat([df, pd.DataFrame({'scaled_age': scaled_age, 'scaled_price': scaled_price})], \n",
    "               axis=1)\n",
    "df.describe()"
   ]
  },
  {
   "cell_type": "markdown",
   "metadata": {
    "deletable": true,
    "editable": true
   },
   "source": [
    "### Plots"
   ]
  },
  {
   "cell_type": "code",
   "execution_count": 4,
   "metadata": {
    "collapsed": false,
    "deletable": true,
    "editable": true
   },
   "outputs": [
    {
     "data": {
      "image/png": "[encoded data removed]",
      "text/plain": [
       "<matplotlib.figure.Figure at 0x1153c22b0>"
      ]
     },
     "metadata": {},
     "output_type": "display_data"
    }
   ],
   "source": [
    "plt.figure(1, figsize=(16,8))\n",
    "\n",
    "# linear\n",
    "plt.subplot(221)\n",
    "plt.scatter(x=df.age, y=df.price)\n",
    "plt.title('original data')\n",
    "plt.xlabel('age')\n",
    "plt.ylabel('price')\n",
    "plt.grid(False)\n",
    "\n",
    "\n",
    "# scaled data\n",
    "plt.subplot(222)\n",
    "plt.scatter(x = df.scaled_age, y = df.scaled_price)\n",
    "plt.title('scaled data')\n",
    "plt.xlabel('scaled_age')\n",
    "plt.ylabel('scaled_price')\n",
    "plt.grid(False)"
   ]
  },
  {
   "cell_type": "markdown",
   "metadata": {
    "deletable": true,
    "editable": true
   },
   "source": [
    "## Scikit-learn model"
   ]
  },
  {
   "cell_type": "code",
   "execution_count": 5,
   "metadata": {
    "collapsed": false,
    "deletable": true,
    "editable": true
   },
   "outputs": [],
   "source": [
    "# Create linear regression object\n",
    "regr = linear_model.LinearRegression()"
   ]
  },
  {
   "cell_type": "code",
   "execution_count": 6,
   "metadata": {
    "collapsed": false,
    "deletable": true,
    "editable": true
   },
   "outputs": [
    {
     "name": "stderr",
     "output_type": "stream",
     "text": [
      "/Users/enzo/tensorflow-tutorials/venv/lib/python3.6/site-packages/scipy/linalg/basic.py:1018: RuntimeWarning: internal gelsd driver lwork query error, required iwork dimension not returned. This is likely the result of LAPACK bug 0038, fixed in LAPACK 3.2.2 (released July 21, 2010). Falling back to 'gelss' driver.\n",
      "  warnings.warn(mesg, RuntimeWarning)\n"
     ]
    },
    {
     "data": {
      "text/plain": [
       "LinearRegression(copy_X=True, fit_intercept=True, n_jobs=1, normalize=False)"
      ]
     },
     "execution_count": 6,
     "metadata": {},
     "output_type": "execute_result"
    }
   ],
   "source": [
    "x_train = df.scaled_age.values.reshape(-1,1)\n",
    "y_train = df.scaled_price.values.reshape(-1,1)\n",
    "regr.fit(x_train, y_train)"
   ]
  },
  {
   "cell_type": "code",
   "execution_count": 7,
   "metadata": {
    "collapsed": false,
    "deletable": true,
    "editable": true
   },
   "outputs": [
    {
     "name": "stdout",
     "output_type": "stream",
     "text": [
      "Coefficients: \n",
      " [[ 0.64279755]]\n",
      "Intercept: \n",
      " [ 0.15055969]\n"
     ]
    }
   ],
   "source": [
    "# The coefficients\n",
    "print('Coefficients: \\n', regr.coef_)\n",
    "print('Intercept: \\n', regr.intercept_)"
   ]
  },
  {
   "cell_type": "code",
   "execution_count": 8,
   "metadata": {
    "collapsed": false,
    "deletable": true,
    "editable": true
   },
   "outputs": [
    {
     "data": {
      "image/png": "[encoded data removed]",
      "text/plain": [
       "<matplotlib.figure.Figure at 0x1153ad9e8>"
      ]
     },
     "metadata": {},
     "output_type": "display_data"
    }
   ],
   "source": [
    "# Plot outputs\n",
    "plt.figure(1, figsize=(12,4))\n",
    "plt.scatter(x_train, y_train,  color='black')\n",
    "plt.plot(x_train, regr.predict(x_train), color='blue',linewidth=3)\n",
    "plt.title('linear regression with scikit-learn')\n",
    "plt.xlabel('scaled_age')\n",
    "plt.ylabel('scaled_price')\n",
    "plt.show()"
   ]
  },
  {
   "cell_type": "markdown",
   "metadata": {
    "deletable": true,
    "editable": true
   },
   "source": [
    "## TensorFlow"
   ]
  },
  {
   "cell_type": "markdown",
   "metadata": {
    "deletable": true,
    "editable": true
   },
   "source": [
    "### Setup Variables and linear regression model"
   ]
  },
  {
   "cell_type": "code",
   "execution_count": 9,
   "metadata": {
    "collapsed": false,
    "deletable": true,
    "editable": true
   },
   "outputs": [],
   "source": [
    "W = tf.Variable(tf.zeros([1]))\n",
    "b = tf.Variable(tf.zeros([1]))\n",
    "y = W * np.asarray(df.scaled_age) + b"
   ]
  },
  {
   "cell_type": "markdown",
   "metadata": {
    "deletable": true,
    "editable": true
   },
   "source": [
    "### Define cost function and gradient descent optimizer"
   ]
  },
  {
   "cell_type": "code",
   "execution_count": 10,
   "metadata": {
    "collapsed": false,
    "deletable": true,
    "editable": true
   },
   "outputs": [],
   "source": [
    "loss = tf.reduce_mean(tf.square(y - np.asarray(df.scaled_price)))\n",
    "optimizer = tf.train.GradientDescentOptimizer(0.001)\n",
    "train = optimizer.minimize(loss)"
   ]
  },
  {
   "cell_type": "markdown",
   "metadata": {
    "deletable": true,
    "editable": true
   },
   "source": [
    "### Initializing the variables and run session"
   ]
  },
  {
   "cell_type": "code",
   "execution_count": 11,
   "metadata": {
    "collapsed": false,
    "deletable": true,
    "editable": true
   },
   "outputs": [],
   "source": [
    "# initializing the variables\n",
    "init = tf.global_variables_initializer()\n",
    "\n",
    "# starting the session session \n",
    "sess = tf.Session()\n",
    "sess.run(init)"
   ]
  },
  {
   "cell_type": "code",
   "execution_count": 12,
   "metadata": {
    "collapsed": false,
    "deletable": true,
    "editable": true
   },
   "outputs": [
    {
     "name": "stdout",
     "output_type": "stream",
     "text": [
      "Model paramters:\n",
      "Weight:0.639339\n",
      "bias:0.152179\n"
     ]
    }
   ],
   "source": [
    "# training the line\n",
    "for step in range(30000):\n",
    "    sess.run(train)\n",
    "\n",
    "print(\"Model paramters:\")\n",
    "print(\"Weight:%f\" %sess.run(W))\n",
    "print(\"bias:%f\" %sess.run(b))"
   ]
  },
  {
   "cell_type": "markdown",
   "metadata": {
    "deletable": true,
    "editable": true
   },
   "source": [
    "### Result"
   ]
  },
  {
   "cell_type": "code",
   "execution_count": 13,
   "metadata": {
    "collapsed": false,
    "deletable": true,
    "editable": true
   },
   "outputs": [
    {
     "data": {
      "image/png": "[encoded data removed]",
      "text/plain": [
       "<matplotlib.figure.Figure at 0x115b5f748>"
      ]
     },
     "metadata": {},
     "output_type": "display_data"
    }
   ],
   "source": [
    "x_test = df.scaled_age\n",
    "y_test = sess.run(W) * x_test + sess.run(b)\n",
    "\n",
    "plt.figure(1, figsize=(12,4))\n",
    "plt.plot(df.scaled_age, df.scaled_price,'o', x_test, y_test)\n",
    "plt.title('linear regression with TensorFlow')\n",
    "plt.xlabel('scaled_age')\n",
    "plt.ylabel('scaled_price')\n",
    "plt.show()"
   ]
  },
  {
   "cell_type": "markdown",
   "metadata": {
    "deletable": true,
    "editable": true
   },
   "source": [
    "## Summary"
   ]
  },
  {
   "cell_type": "code",
   "execution_count": 14,
   "metadata": {
    "collapsed": false,
    "deletable": true,
    "editable": true
   },
   "outputs": [
    {
     "data": {
      "text/plain": [
       "<matplotlib.text.Text at 0x115cf4ef0>"
      ]
     },
     "execution_count": 14,
     "metadata": {},
     "output_type": "execute_result"
    },
    {
     "data": {
      "image/png": "[encoded data removed]",
      "text/plain": [
       "<matplotlib.figure.Figure at 0x115b59cf8>"
      ]
     },
     "metadata": {},
     "output_type": "display_data"
    }
   ],
   "source": [
    "plt.figure(1, figsize=(16,8))\n",
    "\n",
    "# TensorFlow\n",
    "plt.subplot(221)\n",
    "plt.figure(1, figsize=(12,4))\n",
    "plt.plot(df.scaled_age, df.scaled_price,'o', x_test, y_test, linewidth=3)\n",
    "plt.title('linear regression with TensorFlow')\n",
    "plt.xlabel('scaled_age')\n",
    "plt.ylabel('scaled_price')\n",
    "\n",
    "\n",
    "# scikit-learn\n",
    "plt.subplot(222)\n",
    "plt.figure(1, figsize=(12,4))\n",
    "plt.scatter(x_train, y_train,  color='black')\n",
    "plt.plot(x_train, regr.predict(x_train), color='blue',linewidth=3)\n",
    "plt.title('linear regression with scikit-learn')\n",
    "plt.xlabel('scaled_age')\n",
    "plt.ylabel('scaled_price')"
   ]
  },
  {
   "cell_type": "markdown",
   "metadata": {
    "deletable": true,
    "editable": true
   },
   "source": [
    "|                      | TensorFlow | scikit-learn linear regression |\n",
    "|----------------------|------------|--------------------------------|\n",
    "| Weight (Coefficient) |  0.639339  |           0.64279755           |\n",
    "| bias (Intercept)     |  0.152179  |           0.15055969           |"
   ]
  }
 ],
 "metadata": {
  "kernelspec": {
   "display_name": "Python 3",
   "language": "python",
   "name": "python3"
  },
  "language_info": {
   "codemirror_mode": {
    "name": "ipython",
    "version": 3
   },
   "file_extension": ".py",
   "mimetype": "text/x-python",
   "name": "python",
   "nbconvert_exporter": "python",
   "pygments_lexer": "ipython3",
   "version": "3.6.0"
  }
 },
 "nbformat": 4,
 "nbformat_minor": 2
}
